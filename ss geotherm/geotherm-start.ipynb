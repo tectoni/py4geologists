{
 "cells": [
  {
   "cell_type": "markdown",
   "metadata": {},
   "source": [
    "## Berechnung des Geotherms in der Kruste\n",
    "Dies ist ein einfaches Beispiel für die Berechnung des Krustengeotherms mit Python. Ausgehend von einer Oberflächentemperatur von 18°C wird die Temperaturverteilung bis in eine Tiefe von 40km in 100m-Schritten berechnet. Die berechneten Temperaturen werden in einem Vektor (1-dim. Matrix) gespeichert und in einem Diagramm gegen die Tiefe aufgetragen. Für dieses Beispiel braucht man Numpy und zur Darstellung des Diagramms Matplotlib-pyplot.   \n",
    "#### Theorie\n",
    "Ausgehend von der allgemeinen Wärmeleitungsgleichung\n",
    "$$\n",
    "\\frac{\\partial\\,T}{\\partial t}=\\frac{\\lambda}{\\rho\\,c} div\\,grad\\,T + \\frac{A_o}{\\rho\\,c}\n",
    "$$\n",
    "kann aus dieser für den speziellen Fall mit Wärmequellen und einem stationären Zustand (keine zeitliche Temperaturänderung, \"Steady State Geotherm\") folgende Form für die Temperaturverteilung in der Erdkruste abgeleitet werden:\n",
    "$$\\lambda\\, div\\, grad\\, T = -A_o$$\n",
    "($A_o$ Wärmeproduktion, $\\lambda$ Wärmeleitfähigkeit). Diese Differentialgleichung entspricht einer Poissongleichung. Eine Lösung kann durch eine Taylor-Reihenentwicklung gefunden werden. Bricht man die Reihenentwicklung nach dem 2. Glied ab, erhält man folgende Form für die Temperatur nach der Tiefe z:  \n",
    "$$T(z)= T_{z_o} + \\frac{Q\\,(z-z_o)}{\\lambda}-\\frac{A_o\\,(z-z_o)^2}{2\\lambda}$$"
   ]
  },
  {
   "cell_type": "code",
   "execution_count": 2,
   "metadata": {},
   "outputs": [],
   "source": [
    "import matplotlib.pyplot as plt\n",
    "import numpy as np\n",
    "\n",
    "# Erstellung verschiedener Vektoren (z: Tiefe; k: therm. Leitfähigkeit;\n",
    "# A: Wärmeproduktion; Q: Wärmefluß; T: Temperatur. Alle sind eine Funktion der Tiefe)\n",
    "\n",
    "z = np.linspace(0, 40000, 100)\n",
    "k = np.zeros(z.size)\n",
    "A = np.zeros(z.size)\n",
    "Q = np.zeros(z.size)\n",
    "T = np.zeros(z.size)"
   ]
  },
  {
   "cell_type": "markdown",
   "metadata": {},
   "source": [
    "Die Abhängigkeit zwischen der Wärmeleitfähigkeit u. Wärmeproduktion mit der Tiefe ist im Detail komplex und von vielen Parametern (insbesondere der chem. Zusammensetzung i.d. Kruste) abhängig. Für diese einfache Berechnung wurden u.g. Annahmen gemacht."
   ]
  },
  {
   "cell_type": "code",
   "execution_count": 3,
   "metadata": {},
   "outputs": [],
   "source": [
    "T[0] = 18     # Oberflächentemperatur °C\n",
    "Q[0] = 6e-2    # Oberflächenwärmeflußdichte W/m2\n",
    "k = 2 + 5e-5 * z        # W/(m K) Wärmeleitfähigkeit (thermal conductivity) nimmt mit der Tiefe zu\n",
    "A = 2.5e-6 * np.exp(-1e-4 * z)  # W/m3 e.g. Wärmeproduktion, hier Annahme der exp. Abnahme mit der Tiefe\n",
    "                                # (z.B. Lachenbruch, 1968 J Geoph Res 73)\n",
    "\n",
    "# compute the heat flow Q at the bottom of each interval\n",
    "for i in range(0, z.size-1):\n",
    "    Q[i+1] = Q[i] - A[i] * (z[i+1] - z[i])\n",
    "    \n",
    "# compute geotherm\n",
    "\n",
    "\n",
    "# Stuff for Plotting the Data\n"
   ]
  },
  {
   "cell_type": "code",
   "execution_count": null,
   "metadata": {},
   "outputs": [],
   "source": []
  }
 ],
 "metadata": {
  "kernelspec": {
   "display_name": "Python 3",
   "language": "python",
   "name": "python3"
  },
  "language_info": {
   "codemirror_mode": {
    "name": "ipython",
    "version": 3
   },
   "file_extension": ".py",
   "mimetype": "text/x-python",
   "name": "python",
   "nbconvert_exporter": "python",
   "pygments_lexer": "ipython3",
   "version": "3.9.7"
  }
 },
 "nbformat": 4,
 "nbformat_minor": 4
}
