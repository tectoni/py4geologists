{
 "cells": [
  {
   "cell_type": "code",
   "execution_count": null,
   "id": "6e35a2da",
   "metadata": {},
   "outputs": [],
   "source": [
    "import pandas as pd"
   ]
  },
  {
   "cell_type": "code",
   "execution_count": 7,
   "id": "0f15a8be",
   "metadata": {},
   "outputs": [],
   "source": [
    "mmasses = {'SiO2':60.083, 'TiO2': 79.8658, 'Al2O3':101.959, 'FeO':71.844, 'MgO':40.304, 'CaO':56.077, 'Na2O':61.979, 'K2O':94.196}\n",
    "catmult = {'SiO2':1, 'Al2O3':2, 'FeO':1, 'MgO':1, 'TiO2': 1, 'CaO':1, 'Na2O':2, 'K2O':2}\n",
    "oxmult = {'SiO2':2, 'Al2O3':3, 'FeO':1, 'MgO':1, 'CaO':1, 'TiO2': 2, 'Na2O':1, 'K2O':1}"
   ]
  },
  {
   "cell_type": "code",
   "execution_count": 8,
   "id": "929ce39d",
   "metadata": {},
   "outputs": [],
   "source": [
    "df = pd.read_csv('augit-2405alle.txt', engine='python', sep='\\s*\\t\\s*')\n",
    "sli = ('Al2O3', 'SiO2', 'TiO2', 'CaO', 'Na2O', 'FeO', 'MgO', 'K2O')"
   ]
  },
  {
   "cell_type": "code",
   "execution_count": 12,
   "id": "0efb59f6",
   "metadata": {},
   "outputs": [
    {
     "name": "stdout",
     "output_type": "stream",
     "text": [
      "{'No.': 3, 'SiO2': 49.86, 'Al2O3': 8.2, 'TiO2': 0.709, 'CaO': 16.13, 'Na2O': 1.315, 'Cr2O3': 0.14, 'FeO': 6.14, 'MgO': 16.58, 'MnO': 0.181, 'Total': 99.254, 'Comment': 'augit 1-3'}\n",
      "{'Al2O3': 0.35423749802291066, 'SiO2': 1.8275821849869562, 'TiO2': 0.019550669763918328, 'CaO': 0.6334697001037843, 'Na2O': 0.09345174918630407, 'FeO': 0.18821495057892731, 'MgO': 0.9059675181880203}\n"
     ]
    }
   ],
   "source": [
    "wts = dict(df.iloc[2])\n",
    "print(wts)\n",
    "moleratios = {k:wts[k]/mmasses[k] for k in sli if k in df}\n",
    "molepcat = {k:moleratios[k]*catmult[k] for k in sli if k in df}\n",
    "molepox = {k:moleratios[k]*oxmult[k] for k in sli if k in df}\n",
    "n_ox = 6 \n",
    "n_fac = n_ox/sum(list(molepox.values()))\n",
    "formula = {k:molepcat[k]*n_fac for k in sli if k in df}\n",
    "print(formula)"
   ]
  },
  {
   "cell_type": "code",
   "execution_count": null,
   "id": "55422bb6",
   "metadata": {},
   "outputs": [],
   "source": []
  }
 ],
 "metadata": {
  "kernelspec": {
   "display_name": "Python 3",
   "language": "python",
   "name": "python3"
  },
  "language_info": {
   "codemirror_mode": {
    "name": "ipython",
    "version": 3
   },
   "file_extension": ".py",
   "mimetype": "text/x-python",
   "name": "python",
   "nbconvert_exporter": "python",
   "pygments_lexer": "ipython3",
   "version": "3.9.7"
  }
 },
 "nbformat": 4,
 "nbformat_minor": 5
}
