{
 "cells": [
  {
   "cell_type": "markdown",
   "id": "bafae99a",
   "metadata": {},
   "source": [
    "### Pyroxene-Endmembers\n",
    "Following Dietrich & Petrakakis, but omitting Ureyite and Cr-Tschermaks.  \\\n",
    "Sequence: Jd, Ac, TiTs, FeTs, CaTs, Pm, Fs, En, Wo  \\\n",
    "Aliv, Alvi, Ti, Fe2+, Fe3+, Mg, Mn, Ca, Na"
   ]
  },
  {
   "cell_type": "code",
   "execution_count": 2,
   "id": "d8a50072",
   "metadata": {},
   "outputs": [],
   "source": [
    "# setup SymPy\n",
    "import numpy as np"
   ]
  },
  {
   "cell_type": "code",
   "execution_count": 9,
   "id": "56817b76",
   "metadata": {},
   "outputs": [],
   "source": [
    "cpx = np.array([0.106, 0.223, 0.005, 0.19, 0.026, 0.713, 0, 0.753, 0.155])\n",
    "\n",
    "# For the short: Mg, Fe, Ca, Alvi, Na\n",
    "cpxTiny = np.array([0.7712, 0.1917, 0.7869, 0.182, 0.0646])\n",
    "KMatrix = np.array([\n",
    "         [0,0,2,0,1,0,0,0,0], # Al iv\n",
    "         [1,0,0,0,1,0,0,0,0], # Al vi\n",
    "         [0,0,1,0,0,0,0,0,0], # Ti\n",
    "         [0,0,0,0,0,0,2,0,0], # Fe 2+\n",
    "         [0,1,0,1,0,0,0,0,0], # Fe 3+\n",
    "         [0,0,0,0,0,0,0,2,0], # Mg\n",
    "         [0,0,0,0,0,2,0,0,0], # Mn\n",
    "         [0,0,1,1,1,0,0,0,2], #Ca\n",
    "         [1,1,0,0,0,0,0,0,0]]) # Na\n",
    "KMatrixTiny = np.array([\n",
    "                    [2,0,0,1,0],\n",
    "                    [0,2,0,0,0],\n",
    "                    [0,0,0,1,1],\n",
    "                    [0,0,1,0,1],\n",
    "                    [0,0,1,0,0]])"
   ]
  },
  {
   "cell_type": "code",
   "execution_count": 10,
   "id": "5addd45e",
   "metadata": {},
   "outputs": [
    {
     "data": {
      "text/plain": [
       "array([ 0.127 ,  0.028 ,  0.005 , -0.002 ,  0.096 ,  0.    ,  0.095 ,\n",
       "        0.3565,  0.327 ])"
      ]
     },
     "execution_count": 10,
     "metadata": {},
     "output_type": "execute_result"
    }
   ],
   "source": [
    "outvec=np.linalg.inv(KMatrix).dot(cpx)\n",
    "outvec\n",
    "# Jd, Ac, TiTs, FeTs, CaTs, Pm, Fs, En, Wo"
   ]
  },
  {
   "cell_type": "code",
   "execution_count": 11,
   "id": "9ec199cc",
   "metadata": {},
   "outputs": [
    {
     "name": "stdout",
     "output_type": "stream",
     "text": [
      "1.0325\n"
     ]
    }
   ],
   "source": [
    "print(np.sum(outvec))"
   ]
  },
  {
   "cell_type": "code",
   "execution_count": 12,
   "id": "68436235",
   "metadata": {},
   "outputs": [
    {
     "name": "stdout",
     "output_type": "stream",
     "text": [
      "[0.05085 0.09585 0.0646  0.6695  0.1174 ]\n"
     ]
    }
   ],
   "source": [
    "out=(np.linalg.inv(KMatrixTiny).dot(cpxTiny))\n",
    "print(out)\n",
    "# En, Fs, Jd, Di, CaTs"
   ]
  },
  {
   "cell_type": "code",
   "execution_count": 13,
   "id": "165a0132",
   "metadata": {},
   "outputs": [
    {
     "name": "stdout",
     "output_type": "stream",
     "text": [
      "0.9982\n"
     ]
    }
   ],
   "source": [
    "print(np.sum(out))"
   ]
  },
  {
   "cell_type": "code",
   "execution_count": null,
   "id": "0e5e0c27",
   "metadata": {},
   "outputs": [],
   "source": []
  }
 ],
 "metadata": {
  "kernelspec": {
   "display_name": "Python 3",
   "language": "python",
   "name": "python3"
  },
  "language_info": {
   "codemirror_mode": {
    "name": "ipython",
    "version": 3
   },
   "file_extension": ".py",
   "mimetype": "text/x-python",
   "name": "python",
   "nbconvert_exporter": "python",
   "pygments_lexer": "ipython3",
   "version": "3.9.7"
  }
 },
 "nbformat": 4,
 "nbformat_minor": 5
}
