{
 "cells": [
  {
   "cell_type": "markdown",
   "id": "bfe5acd8",
   "metadata": {},
   "source": [
    "### Pyroxene-Endmembers\n",
    "Following Dietrich & Petrakakis, but omitting Ureyite and Cr-Tschermaks.  \\\n",
    "Sequence: Jd, Ac, TiTs, FeTs, CaTs, Pm, Fs, En, Wo  \\\n",
    "Aliv, Alvi, Ti, Fe2+, Fe3+, Mg, Mn, Ca, Na"
   ]
  },
  {
   "cell_type": "code",
   "execution_count": 39,
   "id": "0cb7dc46",
   "metadata": {},
   "outputs": [],
   "source": [
    "# setup SymPy\n",
    "import numpy as np"
   ]
  },
  {
   "cell_type": "code",
   "execution_count": 40,
   "id": "d710a5b8",
   "metadata": {},
   "outputs": [],
   "source": [
    "cpx = np.array([0.106, 0.223, 0.005, 0.19, 0.026, 0.713, 0, 0.753, 0.155])\n",
    "cpxTiny = np.array([0.713, 0.021, 0.753, 0.223, 0.155])\n",
    "KMatrix = np.array([\n",
    "         [0,0,2,0,1,0,0,0,0], \n",
    "         [1,0,0,0,1,0,0,0,0],\n",
    "         [0,0,1,0,0,0,0,0,0],\n",
    "         [0,0,0,0,0,0,2,0,0],\n",
    "         [0,1,0,1,0,0,0,0,0],\n",
    "         [0,0,0,0,0,0,0,2,0],\n",
    "         [0,0,0,0,0,2,0,0,0],\n",
    "         [0,0,1,1,1,0,0,0,2],\n",
    "         [1,1,0,0,0,0,0,0,0]])\n",
    "KMatrixTiny = np.array([\n",
    "                    [2,0,0,1,0],\n",
    "                    [0,2,0,0,0],\n",
    "                    [0,0,0,1,1],\n",
    "                    [0,0,1,0,1],\n",
    "                    [0,0,1,0,0]])"
   ]
  },
  {
   "cell_type": "code",
   "execution_count": 44,
   "id": "73f1936a",
   "metadata": {},
   "outputs": [
    {
     "data": {
      "text/plain": [
       "array([ 0.127 ,  0.028 ,  0.005 , -0.002 ,  0.096 ,  0.    ,  0.095 ,\n",
       "        0.3565,  0.327 ])"
      ]
     },
     "execution_count": 44,
     "metadata": {},
     "output_type": "execute_result"
    }
   ],
   "source": [
    "outvec=np.linalg.inv(KMatrix).dot(cpx)\n",
    "outvec"
   ]
  },
  {
   "cell_type": "code",
   "execution_count": 51,
   "id": "d7dea085",
   "metadata": {},
   "outputs": [
    {
     "name": "stdout",
     "output_type": "stream",
     "text": [
      "1.0325\n"
     ]
    }
   ],
   "source": [
    "print(np.sum(outvec))"
   ]
  },
  {
   "cell_type": "code",
   "execution_count": 47,
   "id": "6f6bfdd4",
   "metadata": {},
   "outputs": [
    {
     "name": "stdout",
     "output_type": "stream",
     "text": [
      "[0.014  0.0105 0.155  0.685  0.068 ]\n"
     ]
    }
   ],
   "source": [
    "out=(np.linalg.inv(KMatrixTiny).dot(cpxTiny))\n",
    "print(out)"
   ]
  },
  {
   "cell_type": "code",
   "execution_count": 50,
   "id": "a5fec1a0",
   "metadata": {},
   "outputs": [
    {
     "name": "stdout",
     "output_type": "stream",
     "text": [
      "0.9325000000000001\n"
     ]
    }
   ],
   "source": [
    "print(np.sum(out))"
   ]
  }
 ],
 "metadata": {
  "kernelspec": {
   "display_name": "Python 3",
   "language": "python",
   "name": "python3"
  },
  "language_info": {
   "codemirror_mode": {
    "name": "ipython",
    "version": 3
   },
   "file_extension": ".py",
   "mimetype": "text/x-python",
   "name": "python",
   "nbconvert_exporter": "python",
   "pygments_lexer": "ipython3",
   "version": "3.9.7"
  }
 },
 "nbformat": 4,
 "nbformat_minor": 5
}
